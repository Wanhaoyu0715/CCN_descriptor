{
 "cells": [
  {
   "cell_type": "code",
   "execution_count": 6,
   "metadata": {},
   "outputs": [],
   "source": [
    "import ase.db\n",
    "db = ase.db.connect('/path/to/your/db')\n",
    "rows = db.select()\n",
    "all_atom = []\n",
    "for row in rows:\n",
    "    all_atom.append(row)\n",
    "\n",
    "all_atom = all_atom[:100]"
   ]
  },
  {
   "cell_type": "code",
   "execution_count": 7,
   "metadata": {},
   "outputs": [],
   "source": [
    "energies = [item.energy for item in all_atom]"
   ]
  },
  {
   "cell_type": "code",
   "execution_count": 8,
   "metadata": {},
   "outputs": [],
   "source": [
    "# 高度分界线为11.5和13\n",
    "\n",
    "def level_proportion(atoms):\n",
    "    high_atoms = [atom for atom in atoms if atom.position[2] > 13.0]\n",
    "\n",
    "    cr_count = sum(1 for atom in high_atoms if atom.symbol == 'Cr')\n",
    "\n",
    "    proportion = cr_count / len(high_atoms)\n",
    "    return proportion\n",
    "\n",
    "def mid_proportion(atoms):\n",
    "    high_atoms = [atom for atom in atoms if (atom.position[2] < 13.0) & (atom.position[2] > 11.5)]\n",
    "\n",
    "    cr_count = sum(1 for atom in high_atoms if atom.symbol == 'Cr')\n",
    "\n",
    "    proportion = cr_count / len(high_atoms)\n",
    "    return proportion\n",
    "\n",
    "def btm_proportion(atoms):\n",
    "    high_atoms = [atom for atom in atoms if (atom.position[2] < 11.5)]\n",
    "\n",
    "    cr_count = sum(1 for atom in high_atoms if atom.symbol == 'Cr')\n",
    "\n",
    "    proportion = cr_count / len(high_atoms)\n",
    "    return proportion"
   ]
  },
  {
   "cell_type": "code",
   "execution_count": 9,
   "metadata": {},
   "outputs": [],
   "source": [
    "prop1 = [level_proportion(item.toatoms()) for item in all_atom]\n",
    "prop2 = [mid_proportion(item.toatoms()) for item in all_atom]\n",
    "prop3 = [btm_proportion(item.toatoms()) for item in all_atom]"
   ]
  },
  {
   "cell_type": "code",
   "execution_count": 10,
   "metadata": {},
   "outputs": [],
   "source": [
    "from ase.neighborlist import neighbor_list\n",
    "from collections import defaultdict\n",
    "import numpy as np\n",
    "\n",
    "def analyze_coordination(atoms):\n",
    "\n",
    "    i, j, d = neighbor_list('ijd', atoms, cutoff=3.0) \n",
    "\n",
    "    element_types = sorted(set(atoms.get_chemical_symbols()))\n",
    "    if len(element_types) != 3:\n",
    "        raise ValueError(\"The structure must contain exactly three different elements.\")\n",
    "\n",
    "\n",
    "    coordination_counts = defaultdict(lambda: defaultdict(int))\n",
    "    for index, neighbor_index in zip(i, j):\n",
    "        element = atoms[index].symbol\n",
    "        neighbor = atoms[neighbor_index].symbol\n",
    "        coordination_counts[element][neighbor] += 1\n",
    "\n",
    "\n",
    "    coordination_matrix = np.zeros((3, 3))\n",
    "\n",
    "\n",
    "    for ix, element in enumerate(element_types):\n",
    "        total_neighbors = sum(coordination_counts[element].values())\n",
    "        for jx, neighbor in enumerate(element_types):\n",
    "            if total_neighbors > 0:\n",
    "                coordination_matrix[ix, jx] = coordination_counts[element][neighbor] / total_neighbors\n",
    "            else:\n",
    "                coordination_matrix[ix, jx] = 0\n",
    "\n",
    "    return coordination_matrix, element_types\n"
   ]
  },
  {
   "cell_type": "code",
   "execution_count": 11,
   "metadata": {},
   "outputs": [],
   "source": [
    "cn_matrix = [analyze_coordination(item.toatoms())[0] for item in all_atom]"
   ]
  },
  {
   "cell_type": "code",
   "execution_count": null,
   "metadata": {},
   "outputs": [],
   "source": [
    "from ase.io import read\n",
    "from ase.neighborlist import neighbor_list\n",
    "import numpy as np\n",
    "\n",
    "def calculate_cn_changes(atoms, a, b):\n",
    "    \"\"\"\n",
    "    Calculate the ratio of coordination number (CN) changes within a given bond length range \n",
    "    for a specified atomic object.\n",
    "\n",
    "    Parameters:\n",
    "        atoms (ase.Atoms): An ASE Atoms object.\n",
    "        a (float): Lower limit of the bond length.\n",
    "        b (float): Upper limit of the bond length.\n",
    "    \n",
    "    Returns:\n",
    "        cn_changes_ratio (float): The ratio of coordination number changes.\n",
    "    \"\"\"\n",
    "    # Retrieve all neighbor pairs within the bond length range [a, b]\n",
    "    i, j, d = neighbor_list('ijd', atoms, cutoff=b)\n",
    "    \n",
    "    # Filter distances within the specified range\n",
    "    filtered_indices1 = (d < a)\n",
    "    filtered_indices2 = (d > a) & (d <= b)\n",
    "    i_filtered = i[filtered_indices1]\n",
    "    j_filtered = j[filtered_indices2]\n",
    "    \n",
    "    # Calculate the coordination number for each atom within the range [a, b]\n",
    "    cn_count = np.bincount(i_filtered, minlength=len(atoms))\n",
    "    \n",
    "    # Compute the ratio of coordination number changes\n",
    "    initial_cn = np.mean(cn_count)\n",
    "    final_cn = np.mean(np.bincount(j_filtered, minlength=len(atoms)))\n",
    "    \n",
    "    if initial_cn == 0:\n",
    "        cn_changes_ratio = 0  # Avoid division by zero\n",
    "    else:\n",
    "        cn_changes_ratio = (final_cn - initial_cn) / initial_cn\n",
    "\n",
    "    return cn_changes_ratio\n"
   ]
  },
  {
   "cell_type": "code",
   "execution_count": 13,
   "metadata": {},
   "outputs": [
    {
     "name": "stderr",
     "output_type": "stream",
     "text": [
      "100%|██████████| 100/100 [01:20<00:00,  1.25it/s]\n"
     ]
    }
   ],
   "source": [
    "from tqdm import tqdm\n",
    "\n",
    "cell = all_atom[0].cell\n",
    "b = np.linalg.norm(cell[0])\n",
    "a = np.linalg.norm(cell[1])\n",
    "\n",
    "pbar = tqdm(all_atom, total=len(all_atom))\n",
    "cn_changes_ratios = [calculate_cn_changes(item.toatoms(), a, b) for item in pbar]"
   ]
  }
 ],
 "metadata": {
  "kernelspec": {
   "display_name": "ctgan",
   "language": "python",
   "name": "python3"
  },
  "language_info": {
   "codemirror_mode": {
    "name": "ipython",
    "version": 3
   },
   "file_extension": ".py",
   "mimetype": "text/x-python",
   "name": "python",
   "nbconvert_exporter": "python",
   "pygments_lexer": "ipython3",
   "version": "3.9.16"
  }
 },
 "nbformat": 4,
 "nbformat_minor": 2
}
